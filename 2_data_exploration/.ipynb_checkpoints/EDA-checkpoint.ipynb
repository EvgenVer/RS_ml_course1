{
 "cells": [
  {
   "cell_type": "code",
   "execution_count": 292,
   "id": "52f4736f",
   "metadata": {},
   "outputs": [],
   "source": [
    "import pandas as pd\n",
    "import numpy as np\n",
    "import matplotlib.pyplot as plt\n",
    "import seaborn as sns\n",
    "%matplotlib inline"
   ]
  },
  {
   "cell_type": "code",
   "execution_count": 293,
   "id": "4eb4bd3f",
   "metadata": {},
   "outputs": [],
   "source": [
    "data_path = 'train.csv'\n",
    "titanic_data = pd.read_csv(data_path)"
   ]
  },
  {
   "cell_type": "markdown",
   "id": "2ba8cd0a",
   "metadata": {},
   "source": [
    "# Context"
   ]
  },
  {
   "cell_type": "code",
   "execution_count": 294,
   "id": "5b7c7f27",
   "metadata": {},
   "outputs": [
    {
     "data": {
      "text/html": [
       "<div>\n",
       "<style scoped>\n",
       "    .dataframe tbody tr th:only-of-type {\n",
       "        vertical-align: middle;\n",
       "    }\n",
       "\n",
       "    .dataframe tbody tr th {\n",
       "        vertical-align: top;\n",
       "    }\n",
       "\n",
       "    .dataframe thead th {\n",
       "        text-align: right;\n",
       "    }\n",
       "</style>\n",
       "<table border=\"1\" class=\"dataframe\">\n",
       "  <thead>\n",
       "    <tr style=\"text-align: right;\">\n",
       "      <th></th>\n",
       "      <th>PassengerId</th>\n",
       "      <th>Survived</th>\n",
       "      <th>Pclass</th>\n",
       "      <th>Name</th>\n",
       "      <th>Sex</th>\n",
       "      <th>Age</th>\n",
       "      <th>SibSp</th>\n",
       "      <th>Parch</th>\n",
       "      <th>Ticket</th>\n",
       "      <th>Fare</th>\n",
       "      <th>Cabin</th>\n",
       "      <th>Embarked</th>\n",
       "    </tr>\n",
       "  </thead>\n",
       "  <tbody>\n",
       "    <tr>\n",
       "      <th>0</th>\n",
       "      <td>0</td>\n",
       "      <td>1</td>\n",
       "      <td>1</td>\n",
       "      <td>Oconnor, Frankie</td>\n",
       "      <td>male</td>\n",
       "      <td>NaN</td>\n",
       "      <td>2</td>\n",
       "      <td>0</td>\n",
       "      <td>209245</td>\n",
       "      <td>27.14</td>\n",
       "      <td>C12239</td>\n",
       "      <td>S</td>\n",
       "    </tr>\n",
       "    <tr>\n",
       "      <th>1</th>\n",
       "      <td>1</td>\n",
       "      <td>0</td>\n",
       "      <td>3</td>\n",
       "      <td>Bryan, Drew</td>\n",
       "      <td>male</td>\n",
       "      <td>NaN</td>\n",
       "      <td>0</td>\n",
       "      <td>0</td>\n",
       "      <td>27323</td>\n",
       "      <td>13.35</td>\n",
       "      <td>NaN</td>\n",
       "      <td>S</td>\n",
       "    </tr>\n",
       "    <tr>\n",
       "      <th>2</th>\n",
       "      <td>2</td>\n",
       "      <td>0</td>\n",
       "      <td>3</td>\n",
       "      <td>Owens, Kenneth</td>\n",
       "      <td>male</td>\n",
       "      <td>0.33</td>\n",
       "      <td>1</td>\n",
       "      <td>2</td>\n",
       "      <td>CA 457703</td>\n",
       "      <td>71.29</td>\n",
       "      <td>NaN</td>\n",
       "      <td>S</td>\n",
       "    </tr>\n",
       "    <tr>\n",
       "      <th>3</th>\n",
       "      <td>3</td>\n",
       "      <td>0</td>\n",
       "      <td>3</td>\n",
       "      <td>Kramer, James</td>\n",
       "      <td>male</td>\n",
       "      <td>19.00</td>\n",
       "      <td>0</td>\n",
       "      <td>0</td>\n",
       "      <td>A. 10866</td>\n",
       "      <td>13.04</td>\n",
       "      <td>NaN</td>\n",
       "      <td>S</td>\n",
       "    </tr>\n",
       "    <tr>\n",
       "      <th>4</th>\n",
       "      <td>4</td>\n",
       "      <td>1</td>\n",
       "      <td>3</td>\n",
       "      <td>Bond, Michael</td>\n",
       "      <td>male</td>\n",
       "      <td>25.00</td>\n",
       "      <td>0</td>\n",
       "      <td>0</td>\n",
       "      <td>427635</td>\n",
       "      <td>7.76</td>\n",
       "      <td>NaN</td>\n",
       "      <td>S</td>\n",
       "    </tr>\n",
       "  </tbody>\n",
       "</table>\n",
       "</div>"
      ],
      "text/plain": [
       "   PassengerId  Survived  Pclass              Name   Sex    Age  SibSp  Parch  \\\n",
       "0            0         1       1  Oconnor, Frankie  male    NaN      2      0   \n",
       "1            1         0       3       Bryan, Drew  male    NaN      0      0   \n",
       "2            2         0       3    Owens, Kenneth  male   0.33      1      2   \n",
       "3            3         0       3     Kramer, James  male  19.00      0      0   \n",
       "4            4         1       3     Bond, Michael  male  25.00      0      0   \n",
       "\n",
       "      Ticket   Fare   Cabin Embarked  \n",
       "0     209245  27.14  C12239        S  \n",
       "1      27323  13.35     NaN        S  \n",
       "2  CA 457703  71.29     NaN        S  \n",
       "3   A. 10866  13.04     NaN        S  \n",
       "4     427635   7.76     NaN        S  "
      ]
     },
     "execution_count": 294,
     "metadata": {},
     "output_type": "execute_result"
    }
   ],
   "source": [
    "titanic_data.head()"
   ]
  },
  {
   "cell_type": "code",
   "execution_count": 295,
   "id": "76464ea3",
   "metadata": {},
   "outputs": [
    {
     "data": {
      "text/plain": [
       "(100000, 12)"
      ]
     },
     "execution_count": 295,
     "metadata": {},
     "output_type": "execute_result"
    }
   ],
   "source": [
    "titanic_data.shape"
   ]
  },
  {
   "cell_type": "code",
   "execution_count": 296,
   "id": "6f06f2d4",
   "metadata": {},
   "outputs": [
    {
     "name": "stdout",
     "output_type": "stream",
     "text": [
      "<class 'pandas.core.frame.DataFrame'>\n",
      "RangeIndex: 100000 entries, 0 to 99999\n",
      "Data columns (total 12 columns):\n",
      " #   Column       Non-Null Count   Dtype  \n",
      "---  ------       --------------   -----  \n",
      " 0   PassengerId  100000 non-null  int64  \n",
      " 1   Survived     100000 non-null  int64  \n",
      " 2   Pclass       100000 non-null  int64  \n",
      " 3   Name         100000 non-null  object \n",
      " 4   Sex          100000 non-null  object \n",
      " 5   Age          96708 non-null   float64\n",
      " 6   SibSp        100000 non-null  int64  \n",
      " 7   Parch        100000 non-null  int64  \n",
      " 8   Ticket       95377 non-null   object \n",
      " 9   Fare         99866 non-null   float64\n",
      " 10  Cabin        32134 non-null   object \n",
      " 11  Embarked     99750 non-null   object \n",
      "dtypes: float64(2), int64(5), object(5)\n",
      "memory usage: 9.2+ MB\n"
     ]
    }
   ],
   "source": [
    "titanic_data.info()"
   ]
  },
  {
   "cell_type": "markdown",
   "id": "2d423197",
   "metadata": {},
   "source": [
    "Variable|Definition|Key|Description\n",
    "---|---|---|---\n",
    "PassengerId|PassengerId| |numerical, discrete \n",
    "Survived|Survival|0 = No, 1 = Yes|categorical, binary\n",
    "Pclass|Ticket class|1 = 1st, 2 = 2nd, 3 = 3rd|categorical\n",
    "Name|Passemger's name| |String\n",
    "Sex|Sex|male, female|categorical, binary\n",
    "Age|Age in years| |numerical, discrete \n",
    "SibSp|number of siblings / spouses aboard the Titanic| |numerical, discrete \n",
    "Parch|number of parents / children aboard the Titanic| |numerical, discrete \n",
    "Ticket|Ticket number| |String\n",
    "Fare|Passenger fare| |numerical, continuous\n",
    "Cabin|Cabin number| |String\n",
    "Embarked|Port of Embarkation|C = Cherbourg, Q = Queenstown, S = Southampton|categorical"
   ]
  },
  {
   "cell_type": "markdown",
   "id": "c96b0a9a",
   "metadata": {},
   "source": [
    "# Data quality assessment"
   ]
  },
  {
   "cell_type": "code",
   "execution_count": 297,
   "id": "ac26933f",
   "metadata": {},
   "outputs": [
    {
     "data": {
      "text/plain": [
       "PassengerId        0\n",
       "Survived           0\n",
       "Pclass             0\n",
       "Name               0\n",
       "Sex                0\n",
       "Age             3292\n",
       "SibSp              0\n",
       "Parch              0\n",
       "Ticket          4623\n",
       "Fare             134\n",
       "Cabin          67866\n",
       "Embarked         250\n",
       "dtype: int64"
      ]
     },
     "execution_count": 297,
     "metadata": {},
     "output_type": "execute_result"
    }
   ],
   "source": [
    "titanic_data.isnull().sum()"
   ]
  },
  {
   "cell_type": "code",
   "execution_count": 298,
   "id": "a496ffc2",
   "metadata": {},
   "outputs": [
    {
     "data": {
      "text/plain": [
       "<AxesSubplot:>"
      ]
     },
     "execution_count": 298,
     "metadata": {},
     "output_type": "execute_result"
    },
    {
     "data": {
      "image/png": "[encoded data removed]",
      "text/plain": [
       "<Figure size 432x288 with 1 Axes>"
      ]
     },
     "metadata": {
      "needs_background": "light"
     },
     "output_type": "display_data"
    }
   ],
   "source": [
    "sns.heatmap(titanic_data.isnull(), cmap = 'viridis', cbar=False)"
   ]
  },
  {
   "cell_type": "markdown",
   "id": "4ca0a835",
   "metadata": {},
   "source": [
    "There aren't features always having missing values the same time. We can see that most of the missing values have features \"Cabin\" and \"Ticket\"."
   ]
  },
  {
   "cell_type": "code",
   "execution_count": 299,
   "id": "38eda6d8",
   "metadata": {},
   "outputs": [
    {
     "data": {
      "text/plain": [
       "A/5             602\n",
       "C.A.            177\n",
       "SC/PARIS        145\n",
       "SOTON/O.Q.       80\n",
       "SC               57\n",
       "               ... \n",
       "421812            1\n",
       "PC 420601         1\n",
       "PC 26800          1\n",
       "STON/O 23755      1\n",
       "458074            1\n",
       "Name: Ticket, Length: 75331, dtype: int64"
      ]
     },
     "execution_count": 299,
     "metadata": {},
     "output_type": "execute_result"
    }
   ],
   "source": [
    "titanic_data['Ticket'].value_counts()"
   ]
  },
  {
   "cell_type": "code",
   "execution_count": 300,
   "id": "84763af6",
   "metadata": {},
   "outputs": [
    {
     "data": {
      "text/plain": [
       "C19828    6\n",
       "C6906     5\n",
       "C13699    5\n",
       "C14534    5\n",
       "B11110    5\n",
       "         ..\n",
       "A21234    1\n",
       "A4905     1\n",
       "C7208     1\n",
       "A5788     1\n",
       "D17243    1\n",
       "Name: Cabin, Length: 26992, dtype: int64"
      ]
     },
     "execution_count": 300,
     "metadata": {},
     "output_type": "execute_result"
    }
   ],
   "source": [
    "titanic_data['Cabin'].value_counts()"
   ]
  },
  {
   "cell_type": "markdown",
   "id": "174cd1fb",
   "metadata": {},
   "source": [
    "These signs do not have a specific format, we cannot restore them. Let us exclude these signs from consideration."
   ]
  },
  {
   "cell_type": "code",
   "execution_count": 301,
   "id": "b3a3c2a8",
   "metadata": {},
   "outputs": [],
   "source": [
    "titanic_data=titanic_data.drop(['Ticket', 'Cabin'], axis=1)"
   ]
  },
  {
   "cell_type": "code",
   "execution_count": 302,
   "id": "0cf53610",
   "metadata": {},
   "outputs": [
    {
     "data": {
      "text/html": [
       "<div>\n",
       "<style scoped>\n",
       "    .dataframe tbody tr th:only-of-type {\n",
       "        vertical-align: middle;\n",
       "    }\n",
       "\n",
       "    .dataframe tbody tr th {\n",
       "        vertical-align: top;\n",
       "    }\n",
       "\n",
       "    .dataframe thead th {\n",
       "        text-align: right;\n",
       "    }\n",
       "</style>\n",
       "<table border=\"1\" class=\"dataframe\">\n",
       "  <thead>\n",
       "    <tr style=\"text-align: right;\">\n",
       "      <th></th>\n",
       "      <th>Survived</th>\n",
       "      <th>Pclass</th>\n",
       "      <th>Name</th>\n",
       "      <th>Sex</th>\n",
       "      <th>Age</th>\n",
       "      <th>SibSp</th>\n",
       "      <th>Parch</th>\n",
       "      <th>Fare</th>\n",
       "      <th>Embarked</th>\n",
       "    </tr>\n",
       "    <tr>\n",
       "      <th>PassengerId</th>\n",
       "      <th></th>\n",
       "      <th></th>\n",
       "      <th></th>\n",
       "      <th></th>\n",
       "      <th></th>\n",
       "      <th></th>\n",
       "      <th></th>\n",
       "      <th></th>\n",
       "      <th></th>\n",
       "    </tr>\n",
       "  </thead>\n",
       "  <tbody>\n",
       "    <tr>\n",
       "      <th>0</th>\n",
       "      <td>1</td>\n",
       "      <td>1</td>\n",
       "      <td>Oconnor, Frankie</td>\n",
       "      <td>male</td>\n",
       "      <td>NaN</td>\n",
       "      <td>2</td>\n",
       "      <td>0</td>\n",
       "      <td>27.14</td>\n",
       "      <td>S</td>\n",
       "    </tr>\n",
       "    <tr>\n",
       "      <th>1</th>\n",
       "      <td>0</td>\n",
       "      <td>3</td>\n",
       "      <td>Bryan, Drew</td>\n",
       "      <td>male</td>\n",
       "      <td>NaN</td>\n",
       "      <td>0</td>\n",
       "      <td>0</td>\n",
       "      <td>13.35</td>\n",
       "      <td>S</td>\n",
       "    </tr>\n",
       "    <tr>\n",
       "      <th>2</th>\n",
       "      <td>0</td>\n",
       "      <td>3</td>\n",
       "      <td>Owens, Kenneth</td>\n",
       "      <td>male</td>\n",
       "      <td>0.33</td>\n",
       "      <td>1</td>\n",
       "      <td>2</td>\n",
       "      <td>71.29</td>\n",
       "      <td>S</td>\n",
       "    </tr>\n",
       "    <tr>\n",
       "      <th>3</th>\n",
       "      <td>0</td>\n",
       "      <td>3</td>\n",
       "      <td>Kramer, James</td>\n",
       "      <td>male</td>\n",
       "      <td>19.00</td>\n",
       "      <td>0</td>\n",
       "      <td>0</td>\n",
       "      <td>13.04</td>\n",
       "      <td>S</td>\n",
       "    </tr>\n",
       "    <tr>\n",
       "      <th>4</th>\n",
       "      <td>1</td>\n",
       "      <td>3</td>\n",
       "      <td>Bond, Michael</td>\n",
       "      <td>male</td>\n",
       "      <td>25.00</td>\n",
       "      <td>0</td>\n",
       "      <td>0</td>\n",
       "      <td>7.76</td>\n",
       "      <td>S</td>\n",
       "    </tr>\n",
       "    <tr>\n",
       "      <th>...</th>\n",
       "      <td>...</td>\n",
       "      <td>...</td>\n",
       "      <td>...</td>\n",
       "      <td>...</td>\n",
       "      <td>...</td>\n",
       "      <td>...</td>\n",
       "      <td>...</td>\n",
       "      <td>...</td>\n",
       "      <td>...</td>\n",
       "    </tr>\n",
       "    <tr>\n",
       "      <th>99995</th>\n",
       "      <td>1</td>\n",
       "      <td>2</td>\n",
       "      <td>Bell, Adele</td>\n",
       "      <td>female</td>\n",
       "      <td>62.00</td>\n",
       "      <td>0</td>\n",
       "      <td>0</td>\n",
       "      <td>14.86</td>\n",
       "      <td>C</td>\n",
       "    </tr>\n",
       "    <tr>\n",
       "      <th>99996</th>\n",
       "      <td>0</td>\n",
       "      <td>2</td>\n",
       "      <td>Brown, Herman</td>\n",
       "      <td>male</td>\n",
       "      <td>66.00</td>\n",
       "      <td>0</td>\n",
       "      <td>0</td>\n",
       "      <td>11.15</td>\n",
       "      <td>S</td>\n",
       "    </tr>\n",
       "    <tr>\n",
       "      <th>99997</th>\n",
       "      <td>0</td>\n",
       "      <td>3</td>\n",
       "      <td>Childress, Charles</td>\n",
       "      <td>male</td>\n",
       "      <td>37.00</td>\n",
       "      <td>0</td>\n",
       "      <td>0</td>\n",
       "      <td>9.95</td>\n",
       "      <td>S</td>\n",
       "    </tr>\n",
       "    <tr>\n",
       "      <th>99998</th>\n",
       "      <td>0</td>\n",
       "      <td>3</td>\n",
       "      <td>Caughlin, Thomas</td>\n",
       "      <td>male</td>\n",
       "      <td>51.00</td>\n",
       "      <td>0</td>\n",
       "      <td>1</td>\n",
       "      <td>30.92</td>\n",
       "      <td>S</td>\n",
       "    </tr>\n",
       "    <tr>\n",
       "      <th>99999</th>\n",
       "      <td>0</td>\n",
       "      <td>3</td>\n",
       "      <td>Enciso, Tyler</td>\n",
       "      <td>male</td>\n",
       "      <td>55.00</td>\n",
       "      <td>0</td>\n",
       "      <td>0</td>\n",
       "      <td>13.96</td>\n",
       "      <td>S</td>\n",
       "    </tr>\n",
       "  </tbody>\n",
       "</table>\n",
       "<p>100000 rows × 9 columns</p>\n",
       "</div>"
      ],
      "text/plain": [
       "             Survived  Pclass                Name     Sex    Age  SibSp  \\\n",
       "PassengerId                                                               \n",
       "0                   1       1    Oconnor, Frankie    male    NaN      2   \n",
       "1                   0       3         Bryan, Drew    male    NaN      0   \n",
       "2                   0       3      Owens, Kenneth    male   0.33      1   \n",
       "3                   0       3       Kramer, James    male  19.00      0   \n",
       "4                   1       3       Bond, Michael    male  25.00      0   \n",
       "...               ...     ...                 ...     ...    ...    ...   \n",
       "99995               1       2         Bell, Adele  female  62.00      0   \n",
       "99996               0       2       Brown, Herman    male  66.00      0   \n",
       "99997               0       3  Childress, Charles    male  37.00      0   \n",
       "99998               0       3    Caughlin, Thomas    male  51.00      0   \n",
       "99999               0       3       Enciso, Tyler    male  55.00      0   \n",
       "\n",
       "             Parch   Fare Embarked  \n",
       "PassengerId                         \n",
       "0                0  27.14        S  \n",
       "1                0  13.35        S  \n",
       "2                2  71.29        S  \n",
       "3                0  13.04        S  \n",
       "4                0   7.76        S  \n",
       "...            ...    ...      ...  \n",
       "99995            0  14.86        C  \n",
       "99996            0  11.15        S  \n",
       "99997            0   9.95        S  \n",
       "99998            1  30.92        S  \n",
       "99999            0  13.96        S  \n",
       "\n",
       "[100000 rows x 9 columns]"
      ]
     },
     "execution_count": 302,
     "metadata": {},
     "output_type": "execute_result"
    }
   ],
   "source": [
    "titanic_data.set_index('PassengerId')"
   ]
  },
  {
   "cell_type": "markdown",
   "id": "3abded05",
   "metadata": {},
   "source": [
    "Recover missing data in a column \"Age\""
   ]
  },
  {
   "cell_type": "code",
   "execution_count": 303,
   "id": "29eeacac",
   "metadata": {},
   "outputs": [
    {
     "name": "stderr",
     "output_type": "stream",
     "text": [
      "C:\\Users\\Evgen\\anaconda3\\lib\\site-packages\\seaborn\\distributions.py:2619: FutureWarning: `distplot` is a deprecated function and will be removed in a future version. Please adapt your code to use either `displot` (a figure-level function with similar flexibility) or `histplot` (an axes-level function for histograms).\n",
      "  warnings.warn(msg, FutureWarning)\n"
     ]
    },
    {
     "data": {
      "text/plain": [
       "<AxesSubplot:xlabel='Age', ylabel='Density'>"
      ]
     },
     "execution_count": 303,
     "metadata": {},
     "output_type": "execute_result"
    },
    {
     "data": {
      "image/png": "[encoded data removed]",
      "text/plain": [
       "<Figure size 432x288 with 1 Axes>"
      ]
     },
     "metadata": {
      "needs_background": "light"
     },
     "output_type": "display_data"
    }
   ],
   "source": [
    "sns.distplot(a=titanic_data['Age'])"
   ]
  },
  {
   "cell_type": "code",
   "execution_count": 304,
   "id": "195a68e3",
   "metadata": {},
   "outputs": [],
   "source": [
    "def fill_empty_age(x):\n",
    "    if np.isnan(x):\n",
    "        return np.random.randint(titanic_data['Age'].mean()-titanic_data['Age'].std(), titanic_data['Age'].mean()+titanic_data['Age'].std(), ())\n",
    "    return x\n",
    "titanic_data['Age'] = titanic_data['Age'].apply(fill_empty_age)"
   ]
  },
  {
   "cell_type": "markdown",
   "id": "33bd022e",
   "metadata": {},
   "source": [
    "Recover missing data in a column \"Embarked\""
   ]
  },
  {
   "cell_type": "code",
   "execution_count": 305,
   "id": "6862d424",
   "metadata": {},
   "outputs": [],
   "source": [
    "emb_data=titanic_data['Embarked'].value_counts()\n"
   ]
  },
  {
   "cell_type": "code",
   "execution_count": 306,
   "id": "e1dde206",
   "metadata": {},
   "outputs": [
    {
     "data": {
      "text/plain": [
       "<AxesSubplot:xlabel='Embarked'>"
      ]
     },
     "execution_count": 306,
     "metadata": {},
     "output_type": "execute_result"
    },
    {
     "data": {
      "image/png": "[encoded data removed]",
      "text/plain": [
       "<Figure size 432x288 with 1 Axes>"
      ]
     },
     "metadata": {
      "needs_background": "light"
     },
     "output_type": "display_data"
    }
   ],
   "source": [
    "sns.barplot(x=emb_data, y=emb_data.index)"
   ]
  },
  {
   "cell_type": "code",
   "execution_count": 307,
   "id": "09a94ae7",
   "metadata": {},
   "outputs": [],
   "source": [
    "titanic_data['Embarked'] = titanic_data['Embarked'].fillna('S')"
   ]
  },
  {
   "cell_type": "markdown",
   "id": "1b95d1f1",
   "metadata": {},
   "source": [
    "Recover missing data in a column \"Fare\""
   ]
  },
  {
   "cell_type": "code",
   "execution_count": 308,
   "id": "cc45e786",
   "metadata": {},
   "outputs": [],
   "source": [
    "mean_fare_pclass=titanic_data.groupby(by='Pclass').Fare.mean()"
   ]
  },
  {
   "cell_type": "code",
   "execution_count": 309,
   "id": "52d419a2",
   "metadata": {},
   "outputs": [],
   "source": [
    "def fill_empty_fare(x):\n",
    "    if np.isnan(x.Fare):\n",
    "        x['Fare'] = mean_fare_pclass[x.Pclass]\n",
    "    return x\n",
    "titanic_data=titanic_data.apply(fill_empty_fare, axis=1)"
   ]
  },
  {
   "cell_type": "code",
   "execution_count": 310,
   "id": "11c4b8b6",
   "metadata": {},
   "outputs": [
    {
     "data": {
      "text/plain": [
       "PassengerId    0\n",
       "Survived       0\n",
       "Pclass         0\n",
       "Name           0\n",
       "Sex            0\n",
       "Age            0\n",
       "SibSp          0\n",
       "Parch          0\n",
       "Fare           0\n",
       "Embarked       0\n",
       "dtype: int64"
      ]
     },
     "execution_count": 310,
     "metadata": {},
     "output_type": "execute_result"
    }
   ],
   "source": [
    "titanic_data.isnull().sum()"
   ]
  },
  {
   "cell_type": "code",
   "execution_count": 311,
   "id": "ba761e61",
   "metadata": {},
   "outputs": [
    {
     "name": "stdout",
     "output_type": "stream",
     "text": [
      "<class 'pandas.core.frame.DataFrame'>\n",
      "RangeIndex: 100000 entries, 0 to 99999\n",
      "Data columns (total 10 columns):\n",
      " #   Column       Non-Null Count   Dtype  \n",
      "---  ------       --------------   -----  \n",
      " 0   PassengerId  100000 non-null  int64  \n",
      " 1   Survived     100000 non-null  int64  \n",
      " 2   Pclass       100000 non-null  int64  \n",
      " 3   Name         100000 non-null  object \n",
      " 4   Sex          100000 non-null  object \n",
      " 5   Age          100000 non-null  float64\n",
      " 6   SibSp        100000 non-null  int64  \n",
      " 7   Parch        100000 non-null  int64  \n",
      " 8   Fare         100000 non-null  float64\n",
      " 9   Embarked     100000 non-null  object \n",
      "dtypes: float64(2), int64(5), object(3)\n",
      "memory usage: 7.6+ MB\n"
     ]
    }
   ],
   "source": [
    "titanic_data.info()"
   ]
  },
  {
   "cell_type": "code",
   "execution_count": 312,
   "id": "844836bc",
   "metadata": {},
   "outputs": [
    {
     "data": {
      "text/html": [
       "<div>\n",
       "<style scoped>\n",
       "    .dataframe tbody tr th:only-of-type {\n",
       "        vertical-align: middle;\n",
       "    }\n",
       "\n",
       "    .dataframe tbody tr th {\n",
       "        vertical-align: top;\n",
       "    }\n",
       "\n",
       "    .dataframe thead th {\n",
       "        text-align: right;\n",
       "    }\n",
       "</style>\n",
       "<table border=\"1\" class=\"dataframe\">\n",
       "  <thead>\n",
       "    <tr style=\"text-align: right;\">\n",
       "      <th></th>\n",
       "      <th>Age</th>\n",
       "      <th>SibSp</th>\n",
       "      <th>Parch</th>\n",
       "      <th>Fare</th>\n",
       "    </tr>\n",
       "  </thead>\n",
       "  <tbody>\n",
       "    <tr>\n",
       "      <th>count</th>\n",
       "      <td>100000.000000</td>\n",
       "      <td>100000.000000</td>\n",
       "      <td>100000.000000</td>\n",
       "      <td>100000.000000</td>\n",
       "    </tr>\n",
       "    <tr>\n",
       "      <th>mean</th>\n",
       "      <td>38.326410</td>\n",
       "      <td>0.397690</td>\n",
       "      <td>0.454560</td>\n",
       "      <td>43.929065</td>\n",
       "    </tr>\n",
       "    <tr>\n",
       "      <th>std</th>\n",
       "      <td>18.109033</td>\n",
       "      <td>0.862566</td>\n",
       "      <td>0.950076</td>\n",
       "      <td>69.552036</td>\n",
       "    </tr>\n",
       "    <tr>\n",
       "      <th>min</th>\n",
       "      <td>0.080000</td>\n",
       "      <td>0.000000</td>\n",
       "      <td>0.000000</td>\n",
       "      <td>0.680000</td>\n",
       "    </tr>\n",
       "    <tr>\n",
       "      <th>25%</th>\n",
       "      <td>25.000000</td>\n",
       "      <td>0.000000</td>\n",
       "      <td>0.000000</td>\n",
       "      <td>10.040000</td>\n",
       "    </tr>\n",
       "    <tr>\n",
       "      <th>50%</th>\n",
       "      <td>39.000000</td>\n",
       "      <td>0.000000</td>\n",
       "      <td>0.000000</td>\n",
       "      <td>24.470000</td>\n",
       "    </tr>\n",
       "    <tr>\n",
       "      <th>75%</th>\n",
       "      <td>53.000000</td>\n",
       "      <td>1.000000</td>\n",
       "      <td>1.000000</td>\n",
       "      <td>33.500000</td>\n",
       "    </tr>\n",
       "    <tr>\n",
       "      <th>max</th>\n",
       "      <td>87.000000</td>\n",
       "      <td>8.000000</td>\n",
       "      <td>9.000000</td>\n",
       "      <td>744.660000</td>\n",
       "    </tr>\n",
       "  </tbody>\n",
       "</table>\n",
       "</div>"
      ],
      "text/plain": [
       "                 Age          SibSp          Parch           Fare\n",
       "count  100000.000000  100000.000000  100000.000000  100000.000000\n",
       "mean       38.326410       0.397690       0.454560      43.929065\n",
       "std        18.109033       0.862566       0.950076      69.552036\n",
       "min         0.080000       0.000000       0.000000       0.680000\n",
       "25%        25.000000       0.000000       0.000000      10.040000\n",
       "50%        39.000000       0.000000       0.000000      24.470000\n",
       "75%        53.000000       1.000000       1.000000      33.500000\n",
       "max        87.000000       8.000000       9.000000     744.660000"
      ]
     },
     "execution_count": 312,
     "metadata": {},
     "output_type": "execute_result"
    }
   ],
   "source": [
    "titanic_data.iloc[:,5:].describe()"
   ]
  },
  {
   "cell_type": "code",
   "execution_count": 313,
   "id": "f071285b",
   "metadata": {},
   "outputs": [
    {
     "name": "stderr",
     "output_type": "stream",
     "text": [
      "C:\\Users\\Evgen\\anaconda3\\lib\\site-packages\\seaborn\\_decorators.py:36: FutureWarning: Pass the following variable as a keyword arg: x. From version 0.12, the only valid positional argument will be `data`, and passing other arguments without an explicit keyword will result in an error or misinterpretation.\n",
      "  warnings.warn(\n"
     ]
    },
    {
     "data": {
      "text/plain": [
       "<AxesSubplot:xlabel='Age'>"
      ]
     },
     "execution_count": 313,
     "metadata": {},
     "output_type": "execute_result"
    },
    {
     "data": {
      "image/png": "[encoded data removed]",
      "text/plain": [
       "<Figure size 432x288 with 1 Axes>"
      ]
     },
     "metadata": {
      "needs_background": "light"
     },
     "output_type": "display_data"
    }
   ],
   "source": [
    "sns.boxplot(titanic_data['Age'])"
   ]
  },
  {
   "cell_type": "code",
   "execution_count": 314,
   "id": "42e31181",
   "metadata": {},
   "outputs": [
    {
     "name": "stderr",
     "output_type": "stream",
     "text": [
      "C:\\Users\\Evgen\\anaconda3\\lib\\site-packages\\seaborn\\_decorators.py:36: FutureWarning: Pass the following variable as a keyword arg: x. From version 0.12, the only valid positional argument will be `data`, and passing other arguments without an explicit keyword will result in an error or misinterpretation.\n",
      "  warnings.warn(\n"
     ]
    },
    {
     "data": {
      "text/plain": [
       "<AxesSubplot:xlabel='SibSp'>"
      ]
     },
     "execution_count": 314,
     "metadata": {},
     "output_type": "execute_result"
    },
    {
     "data": {
      "image/png": "[encoded data removed]",
      "text/plain": [
       "<Figure size 432x288 with 1 Axes>"
      ]
     },
     "metadata": {
      "needs_background": "light"
     },
     "output_type": "display_data"
    }
   ],
   "source": [
    "sns.boxplot(titanic_data['SibSp'])"
   ]
  },
  {
   "cell_type": "code",
   "execution_count": 315,
   "id": "69ac8960",
   "metadata": {},
   "outputs": [
    {
     "name": "stderr",
     "output_type": "stream",
     "text": [
      "C:\\Users\\Evgen\\anaconda3\\lib\\site-packages\\seaborn\\_decorators.py:36: FutureWarning: Pass the following variable as a keyword arg: x. From version 0.12, the only valid positional argument will be `data`, and passing other arguments without an explicit keyword will result in an error or misinterpretation.\n",
      "  warnings.warn(\n"
     ]
    },
    {
     "data": {
      "text/plain": [
       "<AxesSubplot:xlabel='Parch'>"
      ]
     },
     "execution_count": 315,
     "metadata": {},
     "output_type": "execute_result"
    },
    {
     "data": {
      "image/png": "[encoded data removed]",
      "text/plain": [
       "<Figure size 432x288 with 1 Axes>"
      ]
     },
     "metadata": {
      "needs_background": "light"
     },
     "output_type": "display_data"
    }
   ],
   "source": [
    "sns.boxplot(titanic_data['Parch'])"
   ]
  },
  {
   "cell_type": "code",
   "execution_count": 316,
   "id": "d07aec02",
   "metadata": {},
   "outputs": [
    {
     "name": "stderr",
     "output_type": "stream",
     "text": [
      "C:\\Users\\Evgen\\anaconda3\\lib\\site-packages\\seaborn\\_decorators.py:36: FutureWarning: Pass the following variable as a keyword arg: x. From version 0.12, the only valid positional argument will be `data`, and passing other arguments without an explicit keyword will result in an error or misinterpretation.\n",
      "  warnings.warn(\n"
     ]
    },
    {
     "data": {
      "text/plain": [
       "<AxesSubplot:xlabel='Fare'>"
      ]
     },
     "execution_count": 316,
     "metadata": {},
     "output_type": "execute_result"
    },
    {
     "data": {
      "image/png": "[encoded data removed]",
      "text/plain": [
       "<Figure size 432x288 with 1 Axes>"
      ]
     },
     "metadata": {
      "needs_background": "light"
     },
     "output_type": "display_data"
    }
   ],
   "source": [
    "sns.boxplot(titanic_data['Fare'])"
   ]
  },
  {
   "cell_type": "code",
   "execution_count": 317,
   "id": "a69c91bc",
   "metadata": {},
   "outputs": [
    {
     "data": {
      "text/plain": [
       "<AxesSubplot:ylabel='Survived'>"
      ]
     },
     "execution_count": 317,
     "metadata": {},
     "output_type": "execute_result"
    },
    {
     "data": {
      "image/png": "[encoded data removed]",
      "text/plain": [
       "<Figure size 432x288 with 1 Axes>"
      ]
     },
     "metadata": {
      "needs_background": "light"
     },
     "output_type": "display_data"
    }
   ],
   "source": [
    "sns.barplot(x = (titanic_data['Survived'].value_counts()).index, y = titanic_data['Survived'].value_counts())"
   ]
  },
  {
   "cell_type": "code",
   "execution_count": 318,
   "id": "515e6a57",
   "metadata": {},
   "outputs": [
    {
     "data": {
      "text/plain": [
       "0.42774"
      ]
     },
     "execution_count": 318,
     "metadata": {},
     "output_type": "execute_result"
    }
   ],
   "source": [
    "perc_survived = titanic_data['Survived'].value_counts()[1]/titanic_data.shape[0]\n",
    "perc_survived"
   ]
  },
  {
   "cell_type": "code",
   "execution_count": 319,
   "id": "a6778b70",
   "metadata": {},
   "outputs": [
    {
     "data": {
      "text/plain": [
       "3    41006\n",
       "1    30315\n",
       "2    28679\n",
       "Name: Pclass, dtype: int64"
      ]
     },
     "execution_count": 319,
     "metadata": {},
     "output_type": "execute_result"
    }
   ],
   "source": [
    "Pclass_data = titanic_data['Pclass'].value_counts()\n",
    "Pclass_data"
   ]
  },
  {
   "cell_type": "code",
   "execution_count": 320,
   "id": "2cfdb724",
   "metadata": {},
   "outputs": [
    {
     "data": {
      "text/plain": [
       "<AxesSubplot:ylabel='Pclass'>"
      ]
     },
     "execution_count": 320,
     "metadata": {},
     "output_type": "execute_result"
    },
    {
     "data": {
      "image/png": "[encoded data removed]",
      "text/plain": [
       "<Figure size 432x288 with 1 Axes>"
      ]
     },
     "metadata": {
      "needs_background": "light"
     },
     "output_type": "display_data"
    }
   ],
   "source": [
    "sns.barplot(x=Pclass_data.index, y=Pclass_data)"
   ]
  },
  {
   "cell_type": "code",
   "execution_count": 321,
   "id": "cde6252e",
   "metadata": {},
   "outputs": [
    {
     "data": {
      "text/plain": [
       "S    72389\n",
       "C    22187\n",
       "Q     5424\n",
       "Name: Embarked, dtype: int64"
      ]
     },
     "execution_count": 321,
     "metadata": {},
     "output_type": "execute_result"
    }
   ],
   "source": [
    "emb_data=titanic_data['Embarked'].value_counts()\n",
    "emb_data\n"
   ]
  },
  {
   "cell_type": "code",
   "execution_count": 322,
   "id": "2435a60f",
   "metadata": {},
   "outputs": [
    {
     "data": {
      "text/plain": [
       "<AxesSubplot:ylabel='Embarked'>"
      ]
     },
     "execution_count": 322,
     "metadata": {},
     "output_type": "execute_result"
    },
    {
     "data": {
      "image/png": "[encoded data removed]",
      "text/plain": [
       "<Figure size 432x288 with 1 Axes>"
      ]
     },
     "metadata": {
      "needs_background": "light"
     },
     "output_type": "display_data"
    }
   ],
   "source": [
    "sns.barplot(x=emb_data.index, y=emb_data)"
   ]
  },
  {
   "cell_type": "code",
   "execution_count": 323,
   "id": "cf942740",
   "metadata": {},
   "outputs": [
    {
     "data": {
      "text/plain": [
       "male      56114\n",
       "female    43886\n",
       "Name: Sex, dtype: int64"
      ]
     },
     "execution_count": 323,
     "metadata": {},
     "output_type": "execute_result"
    }
   ],
   "source": [
    "sex_data = titanic_data['Sex'].value_counts()\n",
    "sex_data"
   ]
  },
  {
   "cell_type": "code",
   "execution_count": 324,
   "id": "452de4e9",
   "metadata": {},
   "outputs": [
    {
     "data": {
      "text/plain": [
       "<AxesSubplot:ylabel='Sex'>"
      ]
     },
     "execution_count": 324,
     "metadata": {},
     "output_type": "execute_result"
    },
    {
     "data": {
      "image/png": "[encoded data removed]",
      "text/plain": [
       "<Figure size 432x288 with 1 Axes>"
      ]
     },
     "metadata": {
      "needs_background": "light"
     },
     "output_type": "display_data"
    }
   ],
   "source": [
    "sns.barplot(x=sex_data.index, y=sex_data)"
   ]
  },
  {
   "cell_type": "markdown",
   "id": "134c28a9",
   "metadata": {},
   "source": [
    "let's change the column \"Sex\" to accept male = 0, female = 1"
   ]
  },
  {
   "cell_type": "code",
   "execution_count": 325,
   "id": "abb4bfff",
   "metadata": {},
   "outputs": [],
   "source": [
    "def fill_sex(x):\n",
    "    if x.Sex=='male':\n",
    "        x.Sex = 0\n",
    "    else:\n",
    "        x.Sex = 1\n",
    "    return x\n",
    "titanic_data=titanic_data.apply(fill_sex, axis=1)"
   ]
  },
  {
   "cell_type": "code",
   "execution_count": 326,
   "id": "86948b93",
   "metadata": {},
   "outputs": [
    {
     "data": {
      "text/plain": [
       "0    56114\n",
       "1    43886\n",
       "Name: Sex, dtype: int64"
      ]
     },
     "execution_count": 326,
     "metadata": {},
     "output_type": "execute_result"
    }
   ],
   "source": [
    "sex_data = titanic_data['Sex'].value_counts()\n",
    "sex_data"
   ]
  },
  {
   "cell_type": "code",
   "execution_count": 327,
   "id": "e4de7eb1",
   "metadata": {},
   "outputs": [
    {
     "data": {
      "text/plain": [
       "<AxesSubplot:ylabel='Sex'>"
      ]
     },
     "execution_count": 327,
     "metadata": {},
     "output_type": "execute_result"
    },
    {
     "data": {
      "image/png": "[encoded data removed]",
      "text/plain": [
       "<Figure size 432x288 with 1 Axes>"
      ]
     },
     "metadata": {
      "needs_background": "light"
     },
     "output_type": "display_data"
    }
   ],
   "source": [
    "sns.barplot(x=sex_data.index, y=sex_data)"
   ]
  },
  {
   "cell_type": "markdown",
   "id": "54df2056",
   "metadata": {},
   "source": [
    "# Data exploration"
   ]
  },
  {
   "cell_type": "markdown",
   "id": "52b6b3c8",
   "metadata": {},
   "source": [
    "Let's look at the relationships between all features"
   ]
  },
  {
   "cell_type": "code",
   "execution_count": 328,
   "id": "5286b9c9",
   "metadata": {},
   "outputs": [
    {
     "data": {
      "text/plain": [
       "<seaborn.axisgrid.PairGrid at 0x17e595ce100>"
      ]
     },
     "execution_count": 328,
     "metadata": {},
     "output_type": "execute_result"
    },
    {
     "data": {
      "image/png": "[encoded data removed]",
      "text/plain": [
       "<Figure size 1260x1260 with 49 Axes>"
      ]
     },
     "metadata": {
      "needs_background": "light"
     },
     "output_type": "display_data"
    }
   ],
   "source": [
    "pair_grid_plot=sns.PairGrid(titanic_data.iloc[:,1:])\n",
    "pair_grid_plot.map(plt.scatter)"
   ]
  },
  {
   "cell_type": "markdown",
   "id": "5f0cbcc2",
   "metadata": {},
   "source": [
    "Let's look at the correlation matrix"
   ]
  },
  {
   "cell_type": "code",
   "execution_count": 329,
   "id": "c462ab54",
   "metadata": {},
   "outputs": [
    {
     "data": {
      "image/png": "[encoded data removed]",
      "text/plain": [
       "<Figure size 648x432 with 2 Axes>"
      ]
     },
     "metadata": {
      "needs_background": "light"
     },
     "output_type": "display_data"
    }
   ],
   "source": [
    "corr = titanic_data.iloc[:,1:].corr()\n",
    "f, ax = plt.subplots(figsize=(9,6))\n",
    "sns.heatmap(corr, annot=True, linewidths=1.5, fmt='.2f', ax=ax)\n",
    "plt.show()"
   ]
  },
  {
   "cell_type": "markdown",
   "id": "c7f77304",
   "metadata": {},
   "source": [
    "The most correlated features:\n",
    "- Sex/Survived\n",
    "- Pclass/Fare"
   ]
  },
  {
   "cell_type": "markdown",
   "id": "8f70389f",
   "metadata": {},
   "source": [
    "Let's explore how sex affects survival"
   ]
  },
  {
   "cell_type": "code",
   "execution_count": 330,
   "id": "25b4ae89",
   "metadata": {
    "scrolled": true
   },
   "outputs": [
    {
     "data": {
      "text/plain": [
       "<seaborn.axisgrid.FacetGrid at 0x17e41db9e50>"
      ]
     },
     "execution_count": 330,
     "metadata": {},
     "output_type": "execute_result"
    },
    {
     "data": {
      "image/png": "[encoded data removed]",
      "text/plain": [
       "<Figure size 720x360 with 2 Axes>"
      ]
     },
     "metadata": {
      "needs_background": "light"
     },
     "output_type": "display_data"
    }
   ],
   "source": [
    "sns.catplot(x = 'Sex', col = 'Survived', kind = 'count', data = titanic_data)"
   ]
  },
  {
   "cell_type": "code",
   "execution_count": 331,
   "id": "4cd5107a",
   "metadata": {},
   "outputs": [
    {
     "data": {
      "image/png": "[encoded data removed]",
      "text/plain": [
       "<Figure size 720x360 with 2 Axes>"
      ]
     },
     "metadata": {
      "needs_background": "light"
     },
     "output_type": "display_data"
    }
   ],
   "source": [
    "titanic_data_ad = (titanic_data.groupby(['Sex'])['Survived']\n",
    " .value_counts(normalize=True).round(2)\n",
    " .to_frame('perc').reset_index())\n",
    "from  matplotlib.ticker import PercentFormatter\n",
    "p = sns.catplot(x = 'Sex', y='perc', col = 'Survived', kind = 'bar', data = titanic_data_ad)\n",
    "for ax in p.axes.flat:\n",
    "    ax.yaxis.set_major_formatter(PercentFormatter(1))"
   ]
  },
  {
   "cell_type": "markdown",
   "id": "40b889a8",
   "metadata": {},
   "source": [
    "we can see that there are more survivors among women"
   ]
  },
  {
   "cell_type": "code",
   "execution_count": 332,
   "id": "60379f72",
   "metadata": {},
   "outputs": [
    {
     "data": {
      "text/html": [
       "<style type=\"text/css\">\n",
       "#T_f1912_row0_col0, #T_f1912_row1_col2, #T_f1912_row2_col1 {\n",
       "  background-color: #ffff00;\n",
       "  color: #000000;\n",
       "}\n",
       "#T_f1912_row0_col1 {\n",
       "  background-color: #ffc500;\n",
       "  color: #000000;\n",
       "}\n",
       "#T_f1912_row0_col2, #T_f1912_row1_col0 {\n",
       "  background-color: #fffa00;\n",
       "  color: #000000;\n",
       "}\n",
       "#T_f1912_row1_col1 {\n",
       "  background-color: #ffd900;\n",
       "  color: #000000;\n",
       "}\n",
       "#T_f1912_row2_col0 {\n",
       "  background-color: #ff9700;\n",
       "  color: #000000;\n",
       "}\n",
       "#T_f1912_row2_col2 {\n",
       "  background-color: #ffd300;\n",
       "  color: #000000;\n",
       "}\n",
       "#T_f1912_row3_col0, #T_f1912_row3_col1, #T_f1912_row3_col2 {\n",
       "  background-color: #ff0000;\n",
       "  color: #f1f1f1;\n",
       "}\n",
       "</style>\n",
       "<table id=\"T_f1912\">\n",
       "  <thead>\n",
       "    <tr>\n",
       "      <th class=\"index_name level0\" >Survived</th>\n",
       "      <th id=\"T_f1912_level0_col0\" class=\"col_heading level0 col0\" >0</th>\n",
       "      <th id=\"T_f1912_level0_col1\" class=\"col_heading level0 col1\" >1</th>\n",
       "      <th id=\"T_f1912_level0_col2\" class=\"col_heading level0 col2\" >All</th>\n",
       "    </tr>\n",
       "    <tr>\n",
       "      <th class=\"index_name level0\" >Pclass</th>\n",
       "      <th class=\"blank col0\" >&nbsp;</th>\n",
       "      <th class=\"blank col1\" >&nbsp;</th>\n",
       "      <th class=\"blank col2\" >&nbsp;</th>\n",
       "    </tr>\n",
       "  </thead>\n",
       "  <tbody>\n",
       "    <tr>\n",
       "      <th id=\"T_f1912_level0_row0\" class=\"row_heading level0 row0\" >1</th>\n",
       "      <td id=\"T_f1912_row0_col0\" class=\"data row0 col0\" >12739</td>\n",
       "      <td id=\"T_f1912_row0_col1\" class=\"data row0 col1\" >17576</td>\n",
       "      <td id=\"T_f1912_row0_col2\" class=\"data row0 col2\" >30315</td>\n",
       "    </tr>\n",
       "    <tr>\n",
       "      <th id=\"T_f1912_level0_row1\" class=\"row_heading level0 row1\" >2</th>\n",
       "      <td id=\"T_f1912_row1_col0\" class=\"data row1 col0\" >13622</td>\n",
       "      <td id=\"T_f1912_row1_col1\" class=\"data row1 col1\" >15057</td>\n",
       "      <td id=\"T_f1912_row1_col2\" class=\"data row1 col2\" >28679</td>\n",
       "    </tr>\n",
       "    <tr>\n",
       "      <th id=\"T_f1912_level0_row2\" class=\"row_heading level0 row2\" >3</th>\n",
       "      <td id=\"T_f1912_row2_col0\" class=\"data row2 col0\" >30865</td>\n",
       "      <td id=\"T_f1912_row2_col1\" class=\"data row2 col1\" >10141</td>\n",
       "      <td id=\"T_f1912_row2_col2\" class=\"data row2 col2\" >41006</td>\n",
       "    </tr>\n",
       "    <tr>\n",
       "      <th id=\"T_f1912_level0_row3\" class=\"row_heading level0 row3\" >All</th>\n",
       "      <td id=\"T_f1912_row3_col0\" class=\"data row3 col0\" >57226</td>\n",
       "      <td id=\"T_f1912_row3_col1\" class=\"data row3 col1\" >42774</td>\n",
       "      <td id=\"T_f1912_row3_col2\" class=\"data row3 col2\" >100000</td>\n",
       "    </tr>\n",
       "  </tbody>\n",
       "</table>\n"
      ],
      "text/plain": [
       "<pandas.io.formats.style.Styler at 0x17e4ffc9fd0>"
      ]
     },
     "execution_count": 332,
     "metadata": {},
     "output_type": "execute_result"
    }
   ],
   "source": [
    "pd.crosstab(titanic_data.Pclass, titanic_data.Survived, margins=True).style.background_gradient(cmap='autumn_r')"
   ]
  },
  {
   "cell_type": "markdown",
   "id": "47b8a1f3",
   "metadata": {},
   "source": [
    "Let's explore how Pclass affects survival"
   ]
  },
  {
   "cell_type": "code",
   "execution_count": 333,
   "id": "81779ede",
   "metadata": {},
   "outputs": [
    {
     "name": "stdout",
     "output_type": "stream",
     "text": [
      "% of survivals in\n",
      "Pclass=1 :  0.5797789873000165\n",
      "Pclass=2 :  0.5250183060776178\n",
      "Pclass=3 :  0.24730527239916109\n"
     ]
    }
   ],
   "source": [
    "print(\"% of survivals in\") \n",
    "print(\"Pclass=1 : \", titanic_data.Survived[titanic_data.Pclass == 1].sum()/titanic_data[titanic_data.Pclass == 1].Survived.count())\n",
    "print(\"Pclass=2 : \", titanic_data.Survived[titanic_data.Pclass == 2].sum()/titanic_data[titanic_data.Pclass == 2].Survived.count())\n",
    "print(\"Pclass=3 : \", titanic_data.Survived[titanic_data.Pclass == 3].sum()/titanic_data[titanic_data.Pclass == 3].Survived.count())"
   ]
  },
  {
   "cell_type": "markdown",
   "id": "8d468d53",
   "metadata": {},
   "source": [
    "The largest percentage of dead passengers among 3rd class passengers"
   ]
  },
  {
   "cell_type": "code",
   "execution_count": 334,
   "id": "25017e20",
   "metadata": {},
   "outputs": [
    {
     "name": "stderr",
     "output_type": "stream",
     "text": [
      "C:\\Users\\Evgen\\anaconda3\\lib\\site-packages\\seaborn\\_decorators.py:36: FutureWarning: Pass the following variables as keyword args: x, y. From version 0.12, the only valid positional argument will be `data`, and passing other arguments without an explicit keyword will result in an error or misinterpretation.\n",
      "  warnings.warn(\n"
     ]
    },
    {
     "data": {
      "text/plain": [
       "<seaborn.axisgrid.FacetGrid at 0x17e3299f8e0>"
      ]
     },
     "execution_count": 334,
     "metadata": {},
     "output_type": "execute_result"
    },
    {
     "data": {
      "image/png": "[encoded data removed]",
      "text/plain": [
       "<Figure size 360x360 with 1 Axes>"
      ]
     },
     "metadata": {
      "needs_background": "light"
     },
     "output_type": "display_data"
    }
   ],
   "source": [
    "sns.catplot('Pclass','Survived', kind = 'bar', data = titanic_data)"
   ]
  },
  {
   "cell_type": "markdown",
   "id": "fb2870d1",
   "metadata": {},
   "source": [
    "Let's add gender to the consideration and make sure that for all classes the relationship between gender and survival is preserved"
   ]
  },
  {
   "cell_type": "code",
   "execution_count": 335,
   "id": "f9054f33",
   "metadata": {},
   "outputs": [
    {
     "data": {
      "text/html": [
       "<style type=\"text/css\">\n",
       "#T_681b7_row0_col0 {\n",
       "  background-color: #ffcd00;\n",
       "  color: #000000;\n",
       "}\n",
       "#T_681b7_row0_col1 {\n",
       "  background-color: #ffbb00;\n",
       "  color: #000000;\n",
       "}\n",
       "#T_681b7_row0_col2 {\n",
       "  background-color: #ff6800;\n",
       "  color: #f1f1f1;\n",
       "}\n",
       "#T_681b7_row0_col3 {\n",
       "  background-color: #ffa000;\n",
       "  color: #000000;\n",
       "}\n",
       "#T_681b7_row1_col0 {\n",
       "  background-color: #fff100;\n",
       "  color: #000000;\n",
       "}\n",
       "#T_681b7_row1_col1, #T_681b7_row1_col2, #T_681b7_row1_col3, #T_681b7_row2_col0 {\n",
       "  background-color: #ffff00;\n",
       "  color: #000000;\n",
       "}\n",
       "#T_681b7_row2_col1 {\n",
       "  background-color: #fffd00;\n",
       "  color: #000000;\n",
       "}\n",
       "#T_681b7_row2_col2 {\n",
       "  background-color: #ffef00;\n",
       "  color: #000000;\n",
       "}\n",
       "#T_681b7_row2_col3 {\n",
       "  background-color: #fffc00;\n",
       "  color: #000000;\n",
       "}\n",
       "#T_681b7_row3_col0 {\n",
       "  background-color: #ffac00;\n",
       "  color: #000000;\n",
       "}\n",
       "#T_681b7_row3_col1 {\n",
       "  background-color: #ffaa00;\n",
       "  color: #000000;\n",
       "}\n",
       "#T_681b7_row3_col2 {\n",
       "  background-color: #ffe400;\n",
       "  color: #000000;\n",
       "}\n",
       "#T_681b7_row3_col3 {\n",
       "  background-color: #ffc700;\n",
       "  color: #000000;\n",
       "}\n",
       "#T_681b7_row4_col0, #T_681b7_row4_col1, #T_681b7_row4_col2, #T_681b7_row4_col3 {\n",
       "  background-color: #ff0000;\n",
       "  color: #f1f1f1;\n",
       "}\n",
       "</style>\n",
       "<table id=\"T_681b7\">\n",
       "  <thead>\n",
       "    <tr>\n",
       "      <th class=\"blank\" >&nbsp;</th>\n",
       "      <th class=\"index_name level0\" >Pclass</th>\n",
       "      <th id=\"T_681b7_level0_col0\" class=\"col_heading level0 col0\" >1</th>\n",
       "      <th id=\"T_681b7_level0_col1\" class=\"col_heading level0 col1\" >2</th>\n",
       "      <th id=\"T_681b7_level0_col2\" class=\"col_heading level0 col2\" >3</th>\n",
       "      <th id=\"T_681b7_level0_col3\" class=\"col_heading level0 col3\" >All</th>\n",
       "    </tr>\n",
       "    <tr>\n",
       "      <th class=\"index_name level0\" >Sex</th>\n",
       "      <th class=\"index_name level1\" >Survived</th>\n",
       "      <th class=\"blank col0\" >&nbsp;</th>\n",
       "      <th class=\"blank col1\" >&nbsp;</th>\n",
       "      <th class=\"blank col2\" >&nbsp;</th>\n",
       "      <th class=\"blank col3\" >&nbsp;</th>\n",
       "    </tr>\n",
       "  </thead>\n",
       "  <tbody>\n",
       "    <tr>\n",
       "      <th id=\"T_681b7_level0_row0\" class=\"row_heading level0 row0\" rowspan=\"2\">0</th>\n",
       "      <th id=\"T_681b7_level1_row0\" class=\"row_heading level1 row0\" >0</th>\n",
       "      <td id=\"T_681b7_row0_col0\" class=\"data row0 col0\" >9012</td>\n",
       "      <td id=\"T_681b7_row0_col1\" class=\"data row0 col1\" >10092</td>\n",
       "      <td id=\"T_681b7_row0_col2\" class=\"data row0 col2\" >25462</td>\n",
       "      <td id=\"T_681b7_row0_col3\" class=\"data row0 col3\" >44566</td>\n",
       "    </tr>\n",
       "    <tr>\n",
       "      <th id=\"T_681b7_level1_row1\" class=\"row_heading level1 row1\" >1</th>\n",
       "      <td id=\"T_681b7_row1_col0\" class=\"data row1 col0\" >5219</td>\n",
       "      <td id=\"T_681b7_row1_col1\" class=\"data row1 col1\" >3304</td>\n",
       "      <td id=\"T_681b7_row1_col2\" class=\"data row1 col2\" >3025</td>\n",
       "      <td id=\"T_681b7_row1_col3\" class=\"data row1 col3\" >11548</td>\n",
       "    </tr>\n",
       "    <tr>\n",
       "      <th id=\"T_681b7_level0_row2\" class=\"row_heading level0 row2\" rowspan=\"2\">1</th>\n",
       "      <th id=\"T_681b7_level1_row2\" class=\"row_heading level1 row2\" >0</th>\n",
       "      <td id=\"T_681b7_row2_col0\" class=\"data row2 col0\" >3727</td>\n",
       "      <td id=\"T_681b7_row2_col1\" class=\"data row2 col1\" >3530</td>\n",
       "      <td id=\"T_681b7_row2_col2\" class=\"data row2 col2\" >5403</td>\n",
       "      <td id=\"T_681b7_row2_col3\" class=\"data row2 col3\" >12660</td>\n",
       "    </tr>\n",
       "    <tr>\n",
       "      <th id=\"T_681b7_level1_row3\" class=\"row_heading level1 row3\" >1</th>\n",
       "      <td id=\"T_681b7_row3_col0\" class=\"data row3 col0\" >12357</td>\n",
       "      <td id=\"T_681b7_row3_col1\" class=\"data row3 col1\" >11753</td>\n",
       "      <td id=\"T_681b7_row3_col2\" class=\"data row3 col2\" >7116</td>\n",
       "      <td id=\"T_681b7_row3_col3\" class=\"data row3 col3\" >31226</td>\n",
       "    </tr>\n",
       "    <tr>\n",
       "      <th id=\"T_681b7_level0_row4\" class=\"row_heading level0 row4\" >All</th>\n",
       "      <th id=\"T_681b7_level1_row4\" class=\"row_heading level1 row4\" ></th>\n",
       "      <td id=\"T_681b7_row4_col0\" class=\"data row4 col0\" >30315</td>\n",
       "      <td id=\"T_681b7_row4_col1\" class=\"data row4 col1\" >28679</td>\n",
       "      <td id=\"T_681b7_row4_col2\" class=\"data row4 col2\" >41006</td>\n",
       "      <td id=\"T_681b7_row4_col3\" class=\"data row4 col3\" >100000</td>\n",
       "    </tr>\n",
       "  </tbody>\n",
       "</table>\n"
      ],
      "text/plain": [
       "<pandas.io.formats.style.Styler at 0x17e5054c8e0>"
      ]
     },
     "execution_count": 335,
     "metadata": {},
     "output_type": "execute_result"
    }
   ],
   "source": [
    "pd.crosstab([titanic_data.Sex, titanic_data.Survived], titanic_data.Pclass, margins = True).style.background_gradient(cmap = 'autumn_r')"
   ]
  },
  {
   "cell_type": "code",
   "execution_count": 336,
   "id": "2fffa261",
   "metadata": {},
   "outputs": [
    {
     "name": "stderr",
     "output_type": "stream",
     "text": [
      "C:\\Users\\Evgen\\anaconda3\\lib\\site-packages\\seaborn\\_decorators.py:36: FutureWarning: Pass the following variables as keyword args: x, y. From version 0.12, the only valid positional argument will be `data`, and passing other arguments without an explicit keyword will result in an error or misinterpretation.\n",
      "  warnings.warn(\n"
     ]
    },
    {
     "data": {
      "text/plain": [
       "<seaborn.axisgrid.FacetGrid at 0x17e50540910>"
      ]
     },
     "execution_count": 336,
     "metadata": {},
     "output_type": "execute_result"
    },
    {
     "data": {
      "image/png": "[encoded data removed]",
      "text/plain": [
       "<Figure size 402.375x360 with 1 Axes>"
      ]
     },
     "metadata": {
      "needs_background": "light"
     },
     "output_type": "display_data"
    }
   ],
   "source": [
    "sns.catplot('Pclass','Survived',hue = 'Sex', kind = 'bar', data = titanic_data)"
   ]
  },
  {
   "cell_type": "markdown",
   "id": "8356c4d0",
   "metadata": {},
   "source": [
    "We can see that most of the fatalities are among third-class male passengers."
   ]
  },
  {
   "cell_type": "markdown",
   "id": "498fbd6a",
   "metadata": {},
   "source": [
    "Let's explore how Embarked affects survival"
   ]
  },
  {
   "cell_type": "code",
   "execution_count": 337,
   "id": "b19cf150",
   "metadata": {},
   "outputs": [
    {
     "data": {
      "text/plain": [
       "<seaborn.axisgrid.FacetGrid at 0x17e501f1b50>"
      ]
     },
     "execution_count": 337,
     "metadata": {},
     "output_type": "execute_result"
    },
    {
     "data": {
      "image/png": "[encoded data removed]",
      "text/plain": [
       "<Figure size 1080x360 with 3 Axes>"
      ]
     },
     "metadata": {
      "needs_background": "light"
     },
     "output_type": "display_data"
    }
   ],
   "source": [
    "sns.catplot(x='Survived', col='Embarked', kind='count', data=titanic_data)"
   ]
  },
  {
   "cell_type": "code",
   "execution_count": 338,
   "id": "23f691a8",
   "metadata": {},
   "outputs": [
    {
     "data": {
      "text/plain": [
       "<seaborn.axisgrid.FacetGrid at 0x17e2867a550>"
      ]
     },
     "execution_count": 338,
     "metadata": {},
     "output_type": "execute_result"
    },
    {
     "data": {
      "image/png": "[encoded data removed]",
      "text/plain": [
       "<Figure size 1080x360 with 3 Axes>"
      ]
     },
     "metadata": {
      "needs_background": "light"
     },
     "output_type": "display_data"
    }
   ],
   "source": [
    "sns.catplot(x = 'Sex', col = 'Embarked', kind = 'count', data = titanic_data)"
   ]
  },
  {
   "cell_type": "markdown",
   "id": "ab68ed88",
   "metadata": {},
   "source": [
    "As can be seen from the graphs, most of the survivors were among the people who landed in port C, but this is due to the fact that among the passengers who landed in port C, most of the women"
   ]
  },
  {
   "cell_type": "markdown",
   "id": "0b9f4abb",
   "metadata": {},
   "source": [
    "Let's explore how Age affects survival. To divide passengers into several age groups"
   ]
  },
  {
   "cell_type": "code",
   "execution_count": 339,
   "id": "6600bfa9",
   "metadata": {},
   "outputs": [
    {
     "name": "stdout",
     "output_type": "stream",
     "text": [
      "     Age  Age_bin\n",
      "0  24.00      3.0\n",
      "1  23.00      3.0\n",
      "2   0.33      1.0\n",
      "3  19.00      2.0\n",
      "4  25.00      3.0\n",
      "5  35.00      4.0\n",
      "6   7.00      1.0\n",
      "7   6.00      1.0\n",
      "8  27.00      3.0\n",
      "9  66.00      7.0\n"
     ]
    }
   ],
   "source": [
    "titanic_data['Age_bin'] = np.nan\n",
    "for i in range(8,0,-1):\n",
    "    titanic_data.loc[titanic_data['Age'] <= i*10, 'Age_bin'] = i\n",
    "\n",
    "print(titanic_data[['Age' , 'Age_bin']].head(10))"
   ]
  },
  {
   "cell_type": "code",
   "execution_count": 340,
   "id": "baed81ae",
   "metadata": {},
   "outputs": [
    {
     "name": "stderr",
     "output_type": "stream",
     "text": [
      "C:\\Users\\Evgen\\anaconda3\\lib\\site-packages\\seaborn\\_decorators.py:36: FutureWarning: Pass the following variables as keyword args: x, y. From version 0.12, the only valid positional argument will be `data`, and passing other arguments without an explicit keyword will result in an error or misinterpretation.\n",
      "  warnings.warn(\n"
     ]
    },
    {
     "data": {
      "text/plain": [
       "<seaborn.axisgrid.FacetGrid at 0x17e28765430>"
      ]
     },
     "execution_count": 340,
     "metadata": {},
     "output_type": "execute_result"
    },
    {
     "data": {
      "image/png": "[encoded data removed]",
      "text/plain": [
       "<Figure size 360x360 with 1 Axes>"
      ]
     },
     "metadata": {
      "needs_background": "light"
     },
     "output_type": "display_data"
    }
   ],
   "source": [
    "sns.catplot('Age_bin','Survived',kind='bar',data = titanic_data)"
   ]
  },
  {
   "cell_type": "markdown",
   "id": "8d3931f2",
   "metadata": {},
   "source": [
    "Мы можем видеть что больше всего выживших среди людей более старшего возраста от 50-80 лет, за ними следуют дети до 10 лет. Давайте посмотрим как это соотносится с полом "
   ]
  },
  {
   "cell_type": "code",
   "execution_count": 341,
   "id": "1846d965",
   "metadata": {},
   "outputs": [
    {
     "name": "stderr",
     "output_type": "stream",
     "text": [
      "C:\\Users\\Evgen\\anaconda3\\lib\\site-packages\\seaborn\\_decorators.py:36: FutureWarning: Pass the following variables as keyword args: x, y. From version 0.12, the only valid positional argument will be `data`, and passing other arguments without an explicit keyword will result in an error or misinterpretation.\n",
      "  warnings.warn(\n"
     ]
    },
    {
     "data": {
      "text/plain": [
       "<seaborn.axisgrid.FacetGrid at 0x17e41d99a30>"
      ]
     },
     "execution_count": 341,
     "metadata": {},
     "output_type": "execute_result"
    },
    {
     "data": {
      "image/png": "[encoded data removed]",
      "text/plain": [
       "<Figure size 402.375x360 with 1 Axes>"
      ]
     },
     "metadata": {
      "needs_background": "light"
     },
     "output_type": "display_data"
    }
   ],
   "source": [
    "sns.catplot('Age_bin','Survived', hue='Sex', kind='bar',data = titanic_data)"
   ]
  },
  {
   "cell_type": "markdown",
   "id": "0f7d8ba8",
   "metadata": {},
   "source": [
    "From the graph above, it can be seen that the most survivors among older women"
   ]
  },
  {
   "cell_type": "markdown",
   "id": "8b52598d",
   "metadata": {},
   "source": [
    "Let's explore how SibSp and Parch affects survival."
   ]
  },
  {
   "cell_type": "code",
   "execution_count": 342,
   "id": "ffc35d32",
   "metadata": {},
   "outputs": [
    {
     "name": "stderr",
     "output_type": "stream",
     "text": [
      "C:\\Users\\Evgen\\anaconda3\\lib\\site-packages\\seaborn\\_decorators.py:36: FutureWarning: Pass the following variables as keyword args: x, y. From version 0.12, the only valid positional argument will be `data`, and passing other arguments without an explicit keyword will result in an error or misinterpretation.\n",
      "  warnings.warn(\n"
     ]
    },
    {
     "data": {
      "text/plain": [
       "<seaborn.axisgrid.FacetGrid at 0x17e28740250>"
      ]
     },
     "execution_count": 342,
     "metadata": {},
     "output_type": "execute_result"
    },
    {
     "data": {
      "image/png": "[encoded data removed]",
      "text/plain": [
       "<Figure size 360x360 with 1 Axes>"
      ]
     },
     "metadata": {
      "needs_background": "light"
     },
     "output_type": "display_data"
    }
   ],
   "source": [
    "sns.catplot('SibSp','Survived', kind = 'bar', data = titanic_data)"
   ]
  },
  {
   "cell_type": "code",
   "execution_count": 343,
   "id": "46fb7a28",
   "metadata": {},
   "outputs": [
    {
     "name": "stderr",
     "output_type": "stream",
     "text": [
      "C:\\Users\\Evgen\\anaconda3\\lib\\site-packages\\seaborn\\_decorators.py:36: FutureWarning: Pass the following variables as keyword args: x, y. From version 0.12, the only valid positional argument will be `data`, and passing other arguments without an explicit keyword will result in an error or misinterpretation.\n",
      "  warnings.warn(\n"
     ]
    },
    {
     "data": {
      "text/plain": [
       "<seaborn.axisgrid.FacetGrid at 0x17e501f1ac0>"
      ]
     },
     "execution_count": 343,
     "metadata": {},
     "output_type": "execute_result"
    },
    {
     "data": {
      "image/png": "[encoded data removed]",
      "text/plain": [
       "<Figure size 360x360 with 1 Axes>"
      ]
     },
     "metadata": {
      "needs_background": "light"
     },
     "output_type": "display_data"
    }
   ],
   "source": [
    "sns.catplot('Parch','Survived', kind = 'bar', data = titanic_data)"
   ]
  },
  {
   "cell_type": "markdown",
   "id": "e4b599f4",
   "metadata": {},
   "source": [
    "From the above graphs, there is no relationship between the number of relatives and survival.\n",
    "The effect of Fare on survival is indirectly taken into account through the Pclass, since people with higher fare bought more expensive places, which is also noticeable in the correlation matrix."
   ]
  },
  {
   "cell_type": "markdown",
   "id": "3b54c69c",
   "metadata": {},
   "source": [
    "# Summary"
   ]
  },
  {
   "cell_type": "markdown",
   "id": "0acb0ad6",
   "metadata": {},
   "source": [
    "1. There are no linearly dependent features in the dataset\n",
    "2. The most important signs for prediction are:\n",
    "    - Sex\n",
    "    - Age\n",
    "    - Pclass"
   ]
  },
  {
   "cell_type": "code",
   "execution_count": null,
   "id": "ea41fd77",
   "metadata": {},
   "outputs": [],
   "source": []
  }
 ],
 "metadata": {
  "kernelspec": {
   "display_name": "Python 3 (ipykernel)",
   "language": "python",
   "name": "python3"
  },
  "language_info": {
   "codemirror_mode": {
    "name": "ipython",
    "version": 3
   },
   "file_extension": ".py",
   "mimetype": "text/x-python",
   "name": "python",
   "nbconvert_exporter": "python",
   "pygments_lexer": "ipython3",
   "version": "3.9.7"
  }
 },
 "nbformat": 4,
 "nbformat_minor": 5
}
